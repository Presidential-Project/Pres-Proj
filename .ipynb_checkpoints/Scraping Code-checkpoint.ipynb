{
 "cells": [
  {
   "cell_type": "code",
   "execution_count": 16,
   "metadata": {},
   "outputs": [],
   "source": [
    "import time\n",
    "from bs4 import BeautifulSoup #use beautifulsoup to scrape data\n",
    "from selenium import webdriver\n",
    "\n",
    "url = \"http://millercenter.org/the-presidency/presidential-speeches\"\n",
    "\n",
    "browser = webdriver.Firefox()\n",
    "browser.get(url) #go to the website \n",
    "\n",
    "\n",
    "#selenium has an execute java script function 'execute_script'\n",
    "height = 0\n",
    "for i in range(100):\n",
    "    browser.execute_script(\"window.scrollTo(0, document.body.scrollHeight);\") \n",
    "    height_1 = height\n",
    "    height = browser.execute_script(\"return document.body.scrollHeight\")\n",
    "    if height == height_1:\n",
    "        break\n",
    "    time.sleep(0.5)\n",
    "    "
   ]
  },
  {
   "cell_type": "code",
   "execution_count": null,
   "metadata": {},
   "outputs": [],
   "source": [
    "link_str = []\n",
    "for link in soup.findAll('a', href=True):\n",
    "    if link != None:\n",
    "        link_str.append(link['href'])\n",
    "print(link_str)\n",
    "# now I want the link strings containting /the-presidency/\n",
    "new_link_str = []\n",
    "for element in link_str:\n",
    "    if element.find(\"/presidential-speeches/\") >= 0: \n",
    "        new_link_str.append(element)\n",
    "        \n",
    "print(new_link_str)"
   ]
  },
  {
   "cell_type": "code",
   "execution_count": null,
   "metadata": {},
   "outputs": [],
   "source": []
  }
 ],
 "metadata": {
  "kernelspec": {
   "display_name": "Python 3",
   "language": "python",
   "name": "python3"
  },
  "language_info": {
   "codemirror_mode": {
    "name": "ipython",
    "version": 3
   },
   "file_extension": ".py",
   "mimetype": "text/x-python",
   "name": "python",
   "nbconvert_exporter": "python",
   "pygments_lexer": "ipython3",
   "version": "3.6.5"
  }
 },
 "nbformat": 4,
 "nbformat_minor": 2
}
