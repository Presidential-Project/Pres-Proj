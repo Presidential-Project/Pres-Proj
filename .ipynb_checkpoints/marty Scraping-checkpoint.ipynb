{
 "cells": [
  {
   "cell_type": "code",
   "execution_count": null,
   "metadata": {},
   "outputs": [],
   "source": [
    "import time\n",
    "from bs4 import BeautifulSoup #use beautifulsoup to scrape data\n",
    "from selenium import webdriver\n",
    "\n",
    "url = \"http://millercenter.org/the-presidency/presidential-speeches\"\n",
    "\n",
    "browser = webdriver.Chrome() #change this line depending on your system\n",
    "browser.get(url) #go to the website \n",
    "\n",
    "# All of this is pretty much a place holder, will do the UI once the code works as intended\n",
    "\n",
    "# command = input(\"Would you like to save Obama's speeches to a csv? (y/n)\")\n",
    "# if command =='y':\n",
    "#     pass\n",
    "# else:\n",
    "#     pass\n",
    "\n",
    "president = browser.find_element_by_xpath(\n",
    "    '/html/body/div[2]/div/main/div[2]/div/div[2]/article/div/div[2]/div/div/div/form/div[3]/fieldset/div/div/div/div[43]/label')\n",
    "president.click()\n",
    "\n",
    "time.sleep(4)\n",
    "#selenium has an execute java script function 'execute_script'\n",
    "height = 0\n",
    "for i in range(100):\n",
    "    browser.execute_script(\"window.scrollTo(0, document.body.scrollHeight);\") \n",
    "    height_1 = height\n",
    "    height = browser.execute_script(\"return document.body.scrollHeight\")\n",
    "    if height == height_1:\n",
    "        break\n",
    "    time.sleep(2)\n",
    "soup = BeautifulSoup(browser.page_source, 'lxml')    "
   ]
  },
  {
   "cell_type": "code",
   "execution_count": null,
   "metadata": {},
   "outputs": [],
   "source": [
    "import urllib3 \n",
    "import csv\n",
    "\n",
    "\n",
    "link_str = []\n",
    "\n",
    "for link in soup.findAll('a', href=True):\n",
    "    if link != None:\n",
    "        link_str.append(link['href'])\n",
    "\n",
    "# now I want the link strings containting /the-presidency/\n",
    "new_link_str = []\n",
    "new_link_str2 = []\n",
    "\n",
    "for element in link_str:\n",
    "    if element.find(\"/presidential-speeches/\") >= 0: \n",
    "        new_link_str.append(element)\n",
    "\n",
    "\n",
    "# print(new_link_str)\n",
    "\n",
    "obama = dict()\n",
    "#I am writing this one specificly for obama as a test\n",
    "\n",
    "#this dictionary will have the date and name of the speech as key\n",
    "#and the speech itself as value\n",
    "\n",
    "http = urllib3.PoolManager()\n",
    "list2=[]\n",
    "for element in new_link_str:\n",
    "    url = \"http://millercenter.org\" + element\n",
    "#     print(element)\n",
    "    response = http.request('GET', url)\n",
    "    soup_2 = BeautifulSoup(response.data, 'lxml')\n",
    "    list2.append(soup_2.findAll('div', {\"class\":\"transcript-inner\"}))\n",
    "\n",
    "\n",
    "#converting into string due to weird beautifulsoup output    \n",
    "list3=[]\n",
    "for i in range(len(list2)):\n",
    "    list3.append(str(list2[i]))\n",
    "\n",
    "         \n",
    "\n",
    "# with open('obamaspeeches.csv', 'w') as f:\n",
    "#     writer = csv.writer(f)\n",
    "#     writer.writerow(join(list2))\n",
    "    \n",
    "    \n",
    "#     obama.update({element:soup_2.findAll('div', {\"class\":\"transcript-inner\"})})\n",
    "#print(obama)\n",
    "\n",
    "# with open('obamaspeeches.csv','wb') as f:\n",
    "#     w = csv.writer(f)\n",
    "#     w.writerows(obama.items())"
   ]
  },
  {
   "cell_type": "markdown",
   "metadata": {},
   "source": [
    "Add a function to map from a date to a President"
   ]
  },
  {
   "cell_type": "code",
   "execution_count": 45,
   "metadata": {},
   "outputs": [
    {
     "data": {
      "text/plain": [
       "[BarackObama, BarackObama]"
      ]
     },
     "execution_count": 45,
     "metadata": {},
     "output_type": "execute_result"
    }
   ],
   "source": [
    "from sympy import Piecewise\n",
    "import numpy\n",
    "from sympy.utilities.lambdify import lambdify\n",
    "from sympy.abc import x\n",
    "from datetime import date\n",
    "p = lambdify(x, Piecewise(('TheodoreRoosevelt', ((x >= date(1901, 9, 14).toordinal()) & (x < date(1909, 3, 4).toordinal()))),\n",
    "                          ('WilliamHowardTaft', ((x >= date(1909, 3, 4).toordinal()) & (x < date(1913, 3, 4).toordinal()))),\n",
    "                          ('WoodrowWilson', ((x >= date(1913, 3, 4).toordinal()) & (x < date(1921, 3, 4).toordinal()))),\n",
    "                          ('WarrenGHarding', ((x >= date(1921, 3, 4).toordinal()) & (x < date(1923, 8, 3).toordinal()))),\n",
    "                          ('CalvinCoolidge', ((x >= date(1923, 8, 3).toordinal()) & (x < date(1929, 3, 4).toordinal()))),\n",
    "                          ('HerbertHoover', ((x >= date(1929, 3, 4).toordinal()) & (x < date(1933, 3, 4).toordinal()))),\n",
    "                          ('FranklinDRoosevelt', ((x >= date(1933, 3, 4).toordinal()) & (x < date(1945, 4, 12).toordinal()))),\n",
    "                          ('HarrySTruman', ((x >= date(1945, 4, 12).toordinal()) & (x < date(1953, 1, 20).toordinal()))),\n",
    "                          ('DwightDEisenhower', ((x >= date(1953, 1, 20).toordinal()) & (x < date(1961, 1, 20).toordinal()))),\n",
    "                          ('JohnFKennedy', ((x >= date(1961, 1, 20).toordinal()) & (x < date(1963, 11, 22).toordinal()))),\n",
    "                          ('LyndonBJohnson', ((x >= date(1963, 11, 22).toordinal()) & (x < date(1969, 1, 20).toordinal()))),\n",
    "                          ('RichardMNixon', ((x >= date(1969, 1, 20).toordinal()) & (x < date(1974, 8, 9).toordinal()))),\n",
    "                          ('GeraldRFord', ((x >= date(1974, 8, 9).toordinal()) & (x < date(1977, 1, 20).toordinal()))),\n",
    "                          ('JimmyCarter', ((x >= date(1977, 1, 20).toordinal()) & (x < date(1981, 1, 20).toordinal()))),\n",
    "                          ('RonaldReagan', ((x >= date(1981, 1, 20).toordinal()) & (x < date(1989, 1, 20).toordinal()))),\n",
    "                          ('GeorgeHWBush', ((x >= date(1989, 1, 20).toordinal()) & (x < date(1993, 1, 20).toordinal()))),\n",
    "                          ('WilliamJClinton', ((x >= date(1993, 1, 20).toordinal()) & (x < date(2001, 1, 20).toordinal()))),\n",
    "                          ('GeorgeWBush', ((x >= date(2001, 1, 20).toordinal()) & (x < date(2009, 1, 20).toordinal()))),\n",
    "                          ('BarackObama', ((x >= date(2009, 1, 20).toordinal()) & (x < date(2017, 1, 20).toordinal()))),\n",
    "                          ('DonaldJTrump', (x >= date(2017, 1, 20).toordinal()))\n",
    "                          ),\n",
    "                          \"numpy\")\n",
    "\n",
    "list(p([date(2009, 1, 20).toordinal(), date(2009, 1, 20).toordinal()]))"
   ]
  }
 ],
 "metadata": {
  "kernelspec": {
   "display_name": "Python 3",
   "language": "python",
   "name": "python3"
  },
  "language_info": {
   "codemirror_mode": {
    "name": "ipython",
    "version": 3
   },
   "file_extension": ".py",
   "mimetype": "text/x-python",
   "name": "python",
   "nbconvert_exporter": "python",
   "pygments_lexer": "ipython3",
   "version": "3.6.5"
  }
 },
 "nbformat": 4,
 "nbformat_minor": 2
}
