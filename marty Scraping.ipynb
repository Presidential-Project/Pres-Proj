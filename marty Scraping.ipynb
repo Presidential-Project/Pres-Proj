{
 "cells": [
  {
   "cell_type": "code",
   "execution_count": 51,
   "metadata": {},
   "outputs": [
    {
     "data": {
      "text/plain": [
       "'R'"
      ]
     },
     "execution_count": 51,
     "metadata": {},
     "output_type": "execute_result"
    }
   ],
   "source": [
    "from sympy import Piecewise\n",
    "import numpy\n",
    "from sympy.utilities.lambdify import lambdify\n",
    "from sympy.abc import x\n",
    "from datetime import date\n",
    "import re\n",
    "import pandas as pd\n",
    "def party_from_pres(president):\n",
    "    if president == 'Theodore Roosevelt' or president == 'William Taft' or president == 'Warren G. Harding' or president == 'Calvin Coolidge' or president == 'Herbert Hoover' or president == 'Dwight D. Eisenhower' or president == 'Richard Nixon' or president == 'Gerald Ford' or president == 'Ronald Reagan' or president == 'Ronald Reagan' or president == 'George H. W. Bush' or president == 'George W. Bush' or president == 'Donald Trump':\n",
    "        return \"R\"\n",
    "    else:\n",
    "        return \"D\"\n",
    "   \n",
    "#party_from_pres(\"Donald Trump\")"
   ]
  },
  {
   "cell_type": "markdown",
   "metadata": {},
   "source": [
    "Add a function to map from a date to a President"
   ]
  },
  {
   "cell_type": "code",
   "execution_count": 112,
   "metadata": {},
   "outputs": [],
   "source": [
    "## set up data frame\n",
    "from datetime import datetime, date, timedelta\n",
    "import pandas as pd\n",
    "\n",
    "df1 = pd.read_csv('Dow_Jones_data_since_1900.csv')\n",
    "df2 = pd.read_csv('Nasdaq_since_1971.csv')\n",
    "df3 = pd.read_csv('S&P_data_since_1950.csv')\n",
    "#this gets rid of a bunch of data in the early 2000s where it includes the weekends even though the change is 0\n",
    "df1 = df1[df1.Dow_Change != 0]\n",
    "df1 = df1.drop(columns = 'Close')\n",
    "df2 = df2.drop(columns = 'Close')\n",
    "df3 = df3.drop(columns = 'Close')\n",
    "fin_data = df1.merge(df2, how = \"left\")\n",
    "fin_data = fin_data.merge(df3, how = \"left\")\n",
    "dates = []\n",
    "for i in range(len(fin_data.dates)):\n",
    "    dates.append(datetime.strptime(fin_data.dates[i], '%m/%d/%Y'))\n",
    "fin_data.dates = dates\n",
    "\n",
    "\n",
    "\n",
    "\n",
    "## This function should work if there are no instances where two speeches happened on consecutive days where\n",
    "def add_speeches_to_fin_data(df, fin_data):\n",
    "    df['party'] = \"\"\n",
    "    parties = []\n",
    "    for i in range(len(df.president)):\n",
    "        parties.append(party_from_pres(df.president[i]))\n",
    "    df.party = parties\n",
    "    df.to_pickle('./')\n",
    "    dates = []\n",
    "    for i in range(len(df.dates)):\n",
    "        dates.append(df.dates[i] + timedelta(days = 1))\n",
    "    df.dates = dates\n",
    "    final = fin_data.merge(df, how = \"outer\")\n",
    "    final = final.sort_values(by=['dates'])\n",
    "    final = final[pd.notna(final.Dow_Change)]\n",
    "    return final"
   ]
  },
  {
   "cell_type": "code",
   "execution_count": 113,
   "metadata": {
    "scrolled": true
   },
   "outputs": [],
   "source": [
    "df = pd.read_pickle('./scores_data.pkl')\n",
    "df = df.reset_index()\n",
    "full_data_frame = add_speeches_to_fin_data(df, fin_data)"
   ]
  },
  {
   "cell_type": "code",
   "execution_count": 115,
   "metadata": {},
   "outputs": [],
   "source": [
    "full_data_frame.to_pickle('./full_data.pkl')"
   ]
  }
 ],
 "metadata": {
  "kernelspec": {
   "display_name": "Python 3",
   "language": "python",
   "name": "python3"
  },
  "language_info": {
   "codemirror_mode": {
    "name": "ipython",
    "version": 3
   },
   "file_extension": ".py",
   "mimetype": "text/x-python",
   "name": "python",
   "nbconvert_exporter": "python",
   "pygments_lexer": "ipython3",
   "version": "3.6.5"
  }
 },
 "nbformat": 4,
 "nbformat_minor": 2
}
