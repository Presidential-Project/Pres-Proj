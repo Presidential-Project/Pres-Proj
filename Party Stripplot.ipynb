{
 "cells": [
  {
   "cell_type": "code",
   "execution_count": 62,
   "metadata": {},
   "outputs": [],
   "source": [
    "import pandas as pd\n",
    "import numpy as np\n",
    "import statistics\n",
    "import matplotlib.pyplot as plt\n",
    "import math\n",
    "import seaborn as sns; sns.set()"
   ]
  },
  {
   "cell_type": "code",
   "execution_count": 31,
   "metadata": {},
   "outputs": [],
   "source": [
    "data_for_plot = pd.read_pickle(\"./scores_data_with_party.pkl\")\n",
    "data_for_plot = data_for_plot.reset_index()\n",
    "years = []\n",
    "for i in data_for_plot['dates']:\n",
    "    years.append(i.year)\n",
    "data_for_plot['year'] = years"
   ]
  },
  {
   "cell_type": "code",
   "execution_count": 32,
   "metadata": {},
   "outputs": [
    {
     "data": {
      "text/html": [
       "<div>\n",
       "<style scoped>\n",
       "    .dataframe tbody tr th:only-of-type {\n",
       "        vertical-align: middle;\n",
       "    }\n",
       "\n",
       "    .dataframe tbody tr th {\n",
       "        vertical-align: top;\n",
       "    }\n",
       "\n",
       "    .dataframe thead th {\n",
       "        text-align: right;\n",
       "    }\n",
       "</style>\n",
       "<table border=\"1\" class=\"dataframe\">\n",
       "  <thead>\n",
       "    <tr style=\"text-align: right;\">\n",
       "      <th></th>\n",
       "      <th>index</th>\n",
       "      <th>dates</th>\n",
       "      <th>speeches</th>\n",
       "      <th>president</th>\n",
       "      <th>positive</th>\n",
       "      <th>negative</th>\n",
       "      <th>compound</th>\n",
       "      <th>party</th>\n",
       "      <th>year</th>\n",
       "    </tr>\n",
       "  </thead>\n",
       "  <tbody>\n",
       "    <tr>\n",
       "      <th>0</th>\n",
       "      <td>0</td>\n",
       "      <td>2018-03-19</td>\n",
       "      <td>[THE PRESIDENT: Thank you to our First Lady, M...</td>\n",
       "      <td>Donald Trump</td>\n",
       "      <td>0.49620</td>\n",
       "      <td>0.310760</td>\n",
       "      <td>0.101022</td>\n",
       "      <td>R</td>\n",
       "      <td>2018</td>\n",
       "    </tr>\n",
       "    <tr>\n",
       "      <th>1</th>\n",
       "      <td>1</td>\n",
       "      <td>2018-02-23</td>\n",
       "      <td>[THE PRESIDENT: Thank you very much. Thank you...</td>\n",
       "      <td>Donald Trump</td>\n",
       "      <td>0.83788</td>\n",
       "      <td>0.441080</td>\n",
       "      <td>0.203247</td>\n",
       "      <td>R</td>\n",
       "      <td>2018</td>\n",
       "    </tr>\n",
       "    <tr>\n",
       "      <th>2</th>\n",
       "      <td>2</td>\n",
       "      <td>2018-02-15</td>\n",
       "      <td>[THE PRESIDENT: My fellow Americans, today I s...</td>\n",
       "      <td>Donald Trump</td>\n",
       "      <td>0.18887</td>\n",
       "      <td>0.137696</td>\n",
       "      <td>0.029152</td>\n",
       "      <td>R</td>\n",
       "      <td>2018</td>\n",
       "    </tr>\n",
       "    <tr>\n",
       "      <th>3</th>\n",
       "      <td>3</td>\n",
       "      <td>2018-02-01</td>\n",
       "      <td>[THE PRESIDENT: Thank you, Paul and Mitch, for...</td>\n",
       "      <td>Donald Trump</td>\n",
       "      <td>0.59952</td>\n",
       "      <td>0.239560</td>\n",
       "      <td>0.353166</td>\n",
       "      <td>R</td>\n",
       "      <td>2018</td>\n",
       "    </tr>\n",
       "    <tr>\n",
       "      <th>4</th>\n",
       "      <td>4</td>\n",
       "      <td>2018-01-30</td>\n",
       "      <td>[Mr. Speaker, Mr. Vice President, Members of C...</td>\n",
       "      <td>Donald Trump</td>\n",
       "      <td>0.29468</td>\n",
       "      <td>0.218400</td>\n",
       "      <td>0.174994</td>\n",
       "      <td>R</td>\n",
       "      <td>2018</td>\n",
       "    </tr>\n",
       "  </tbody>\n",
       "</table>\n",
       "</div>"
      ],
      "text/plain": [
       "   index      dates                                           speeches  \\\n",
       "0      0 2018-03-19  [THE PRESIDENT: Thank you to our First Lady, M...   \n",
       "1      1 2018-02-23  [THE PRESIDENT: Thank you very much. Thank you...   \n",
       "2      2 2018-02-15  [THE PRESIDENT: My fellow Americans, today I s...   \n",
       "3      3 2018-02-01  [THE PRESIDENT: Thank you, Paul and Mitch, for...   \n",
       "4      4 2018-01-30  [Mr. Speaker, Mr. Vice President, Members of C...   \n",
       "\n",
       "      president  positive  negative  compound party  year  \n",
       "0  Donald Trump   0.49620  0.310760  0.101022     R  2018  \n",
       "1  Donald Trump   0.83788  0.441080  0.203247     R  2018  \n",
       "2  Donald Trump   0.18887  0.137696  0.029152     R  2018  \n",
       "3  Donald Trump   0.59952  0.239560  0.353166     R  2018  \n",
       "4  Donald Trump   0.29468  0.218400  0.174994     R  2018  "
      ]
     },
     "execution_count": 32,
     "metadata": {},
     "output_type": "execute_result"
    }
   ],
   "source": [
    "data_for_plot.head()"
   ]
  },
  {
   "cell_type": "code",
   "execution_count": 33,
   "metadata": {},
   "outputs": [
    {
     "data": {
      "text/html": [
       "<div>\n",
       "<style scoped>\n",
       "    .dataframe tbody tr th:only-of-type {\n",
       "        vertical-align: middle;\n",
       "    }\n",
       "\n",
       "    .dataframe tbody tr th {\n",
       "        vertical-align: top;\n",
       "    }\n",
       "\n",
       "    .dataframe thead th {\n",
       "        text-align: right;\n",
       "    }\n",
       "</style>\n",
       "<table border=\"1\" class=\"dataframe\">\n",
       "  <thead>\n",
       "    <tr style=\"text-align: right;\">\n",
       "      <th></th>\n",
       "      <th>index</th>\n",
       "      <th>dates</th>\n",
       "      <th>speeches</th>\n",
       "      <th>president</th>\n",
       "      <th>positive</th>\n",
       "      <th>negative</th>\n",
       "      <th>compound</th>\n",
       "      <th>party</th>\n",
       "      <th>year</th>\n",
       "    </tr>\n",
       "  </thead>\n",
       "  <tbody>\n",
       "    <tr>\n",
       "      <th>592</th>\n",
       "      <td>592</td>\n",
       "      <td>1903-10-20</td>\n",
       "      <td>[By the President of the United States of Amer...</td>\n",
       "      <td>Theodore Roosevelt</td>\n",
       "      <td>0.16400</td>\n",
       "      <td>0.000000</td>\n",
       "      <td>0.989200</td>\n",
       "      <td>R</td>\n",
       "      <td>1903</td>\n",
       "    </tr>\n",
       "    <tr>\n",
       "      <th>593</th>\n",
       "      <td>593</td>\n",
       "      <td>1902-12-02</td>\n",
       "      <td>[To the Senate and House of Representatives:We...</td>\n",
       "      <td>Theodore Roosevelt</td>\n",
       "      <td>0.33336</td>\n",
       "      <td>0.233800</td>\n",
       "      <td>0.319026</td>\n",
       "      <td>R</td>\n",
       "      <td>1902</td>\n",
       "    </tr>\n",
       "    <tr>\n",
       "      <th>594</th>\n",
       "      <td>594</td>\n",
       "      <td>1902-06-13</td>\n",
       "      <td>[To the Senate and House of Representatives:I ...</td>\n",
       "      <td>Theodore Roosevelt</td>\n",
       "      <td>0.19936</td>\n",
       "      <td>0.076920</td>\n",
       "      <td>0.340781</td>\n",
       "      <td>R</td>\n",
       "      <td>1902</td>\n",
       "    </tr>\n",
       "    <tr>\n",
       "      <th>595</th>\n",
       "      <td>595</td>\n",
       "      <td>1901-12-03</td>\n",
       "      <td>[To the Senate and House of Representatives:Th...</td>\n",
       "      <td>Theodore Roosevelt</td>\n",
       "      <td>0.34924</td>\n",
       "      <td>0.303400</td>\n",
       "      <td>0.260799</td>\n",
       "      <td>R</td>\n",
       "      <td>1901</td>\n",
       "    </tr>\n",
       "    <tr>\n",
       "      <th>596</th>\n",
       "      <td>596</td>\n",
       "      <td>1901-09-14</td>\n",
       "      <td>[By the President of the United States of Amer...</td>\n",
       "      <td>Theodore Roosevelt</td>\n",
       "      <td>0.21000</td>\n",
       "      <td>0.099667</td>\n",
       "      <td>0.718633</td>\n",
       "      <td>R</td>\n",
       "      <td>1901</td>\n",
       "    </tr>\n",
       "  </tbody>\n",
       "</table>\n",
       "</div>"
      ],
      "text/plain": [
       "     index      dates                                           speeches  \\\n",
       "592    592 1903-10-20  [By the President of the United States of Amer...   \n",
       "593    593 1902-12-02  [To the Senate and House of Representatives:We...   \n",
       "594    594 1902-06-13  [To the Senate and House of Representatives:I ...   \n",
       "595    595 1901-12-03  [To the Senate and House of Representatives:Th...   \n",
       "596    596 1901-09-14  [By the President of the United States of Amer...   \n",
       "\n",
       "              president  positive  negative  compound party  year  \n",
       "592  Theodore Roosevelt   0.16400  0.000000  0.989200     R  1903  \n",
       "593  Theodore Roosevelt   0.33336  0.233800  0.319026     R  1902  \n",
       "594  Theodore Roosevelt   0.19936  0.076920  0.340781     R  1902  \n",
       "595  Theodore Roosevelt   0.34924  0.303400  0.260799     R  1901  \n",
       "596  Theodore Roosevelt   0.21000  0.099667  0.718633     R  1901  "
      ]
     },
     "execution_count": 33,
     "metadata": {},
     "output_type": "execute_result"
    }
   ],
   "source": [
    "data_for_plot.tail()"
   ]
  },
  {
   "cell_type": "code",
   "execution_count": 87,
   "metadata": {},
   "outputs": [
    {
     "data": {
      "image/png": "[encoded data removed]",
      "text/plain": [
       "<Figure size 432x288 with 1 Axes>"
      ]
     },
     "metadata": {},
     "output_type": "display_data"
    }
   ],
   "source": [
    "ax = sns.stripplot(x=\"dates\", y=\"compound\", color='firebrick', data=data_for_plot[data_for_plot.party == 'R'])\n",
    "plt.savefig('Republican.png')"
   ]
  },
  {
   "cell_type": "code",
   "execution_count": 88,
   "metadata": {},
   "outputs": [
    {
     "data": {
      "image/png": "[encoded data removed]",
      "text/plain": [
       "<Figure size 432x288 with 1 Axes>"
      ]
     },
     "metadata": {},
     "output_type": "display_data"
    }
   ],
   "source": [
    "ax = sns.stripplot(x=\"dates\", y=\"compound\", color='navy', data=data_for_plot[data_for_plot.party == 'D'])\n",
    "plt.savefig('Democrat.png')"
   ]
  }
 ],
 "metadata": {
  "kernelspec": {
   "display_name": "Python 3",
   "language": "python",
   "name": "python3"
  },
  "language_info": {
   "codemirror_mode": {
    "name": "ipython",
    "version": 3
   },
   "file_extension": ".py",
   "mimetype": "text/x-python",
   "name": "python",
   "nbconvert_exporter": "python",
   "pygments_lexer": "ipython3",
   "version": "3.6.5"
  }
 },
 "nbformat": 4,
 "nbformat_minor": 2
}
