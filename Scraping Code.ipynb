{
 "cells": [
  {
   "cell_type": "code",
   "execution_count": 15,
   "metadata": {},
   "outputs": [],
   "source": [
    "import time\n",
    "from bs4 import BeautifulSoup #use beautifulsoup to scrape data\n",
    "from selenium import webdriver\n",
    "\n",
    "url = \"http://millercenter.org/the-presidency/presidential-speeches\"\n",
    "\n",
    "browser = webdriver.Firefox()\n",
    "browser.get(url) #go to the website \n",
    "\n",
    "\n",
    "#selenium has an execute java script function 'execute_script'\n",
    "height = 0\n",
    "for i in range(100):\n",
    "    browser.execute_script(\"window.scrollTo(0, document.body.scrollHeight);\") \n",
    "    height_1 = height\n",
    "    height = browser.execute_script(\"return document.body.scrollHeight\")\n",
    "    if height == height_1:\n",
    "        break\n",
    "    time.sleep(0.5)\n",
    "    "
   ]
  }
 ],
 "metadata": {
  "kernelspec": {
   "display_name": "Python 3",
   "language": "python",
   "name": "python3"
  },
  "language_info": {
   "codemirror_mode": {
    "name": "ipython",
    "version": 3
   },
   "file_extension": ".py",
   "mimetype": "text/x-python",
   "name": "python",
   "nbconvert_exporter": "python",
   "pygments_lexer": "ipython3",
   "version": "3.6.5"
  }
 },
 "nbformat": 4,
 "nbformat_minor": 2
}
