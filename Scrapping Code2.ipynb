{
 "cells": [
  {
   "cell_type": "code",
   "execution_count": 2,
   "metadata": {},
   "outputs": [],
   "source": [
    "from selenium import webdriver\n",
    "from selenium.webdriver.support.ui import Select\n",
    "from bs4 import BeautifulSoup\n",
    "import urllib.request\n",
    "\n",
    "driver = webdriver.Chrome()\n",
    "driver.get('https://millercenter.org/the-presidency/presidential-speeches')\n",
    "driver.implicitly_wait(2)\n",
    "text_file = open(\"scrap.txt\",\"w\") \n",
    "\n",
    "\n",
    "president = driver.find_element_by_xpath(\n",
    "    '/html/body/div[2]/div/main/div[2]/div/div[2]/article/div/div[2]/div/div/div/form/div[3]/fieldset/div/div/div/div[43]/label')\n",
    "president.click()\n",
    "\n",
    "\n",
    "\n",
    "elems = driver.find_elements_by_xpath(\"//div[@class='views-infinite-scroll-content-wrapper clearfix']/@href\")\n",
    "for elem in elems:\n",
    "    print(elem.get_attribute(\"href\"))\n",
    "    \n",
    "\n",
    "    \n",
    "    \n",
    "# soup = BeautifulSoup(driver.page_source, 'lxml')\n",
    "# print(soup)\n",
    "\n",
    "#url = urllib.request.urlopen('https://millercenter.org/the-presidency/presidential-speeches')\n",
    "#content = url.read()\n",
    "#soup = BeautifulSoup(content, \"html.parser\")\n",
    "#type = soup.find_all('div', class_=\n",
    "\n"
   ]
  },
  {
   "cell_type": "code",
   "execution_count": null,
   "metadata": {},
   "outputs": [],
   "source": []
  }
 ],
 "metadata": {
  "kernelspec": {
   "display_name": "Python 3",
   "language": "python",
   "name": "python3"
  },
  "language_info": {
   "codemirror_mode": {
    "name": "ipython",
    "version": 3
   },
   "file_extension": ".py",
   "mimetype": "text/x-python",
   "name": "python",
   "nbconvert_exporter": "python",
   "pygments_lexer": "ipython3",
   "version": "3.6.5"
  }
 },
 "nbformat": 4,
 "nbformat_minor": 2
}
